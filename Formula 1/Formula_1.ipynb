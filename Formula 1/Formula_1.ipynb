{
 "cells": [
  {
   "cell_type": "markdown",
   "metadata": {},
   "source": [
    "# About Formula 1\n",
    "\n",
    "Formula 1 is the premier class of international autoracing and one of the fastest motorsports in the world with the cars regularly reaching speeds of over 200 mph (322 km/h) during races. Each Formula 1 season is a battle for two separate titles based on cummulative points scored during the season. One title for the drivers - the World Drivers' Championship - and another title for the constructors - the World Constructors' Championship.\n",
    "\n",
    "The Formula One World Championship, previously called the World Drivers' Championship, is now in its 72nd season, and thanks to recent additions of multiple television deals around the world Formula 1 is possibly more popular now more than ever. \n",
    "\n",
    "Being a fairly new spectator of the sport, having only been watching the last 3 or 4 seasons, I wanted to put together some general questions a novice like myself might ask to learn more about the sport. These should be fairly straight-forward and easy to answer with the use of data science techniques.\n",
    "\n",
    "After answering the straight-forward questions I will then create a predictive model to help answer the question, \"What effect does being on pole (starting the race in first place) have on a driver's final position at the race's end?\"\n",
    "\n",
    "# About the dataset\n",
    "\n",
    "The data being used were resourced from the kaggle.com dataset **Formula 1 World Championship (1950 - 2021)**. The data were orginally from five csv files which include information for race results, circuits, drivers, and constructors.\n",
    "\n",
    "# Questions\n",
    "\n",
    "In this presentation I am trying to answer a few simple questions using the data provided.\n",
    "1. How many drivers have participated in Formula 1?\n",
    "2. What countries have produced the most drivers?\n",
    "3. Has a race ever been won by an American?\n",
    "4. Who are the most successful constructors (teams)?\n",
    "5. Who are the drivers with the most wins?\n",
    "6. What effect does being on pole (starting the race in first place) have on a driver's final position at the race's end?\n",
    "7. How likely is a driver to win at Monaco if he starts on the pole?"
   ]
  },
  {
   "cell_type": "code",
   "execution_count": 1,
   "metadata": {},
   "outputs": [],
   "source": [
    "# import the necessary libraries\n",
    "\n",
    "import pandas as pd\n",
    "import numpy as np\n",
    "import matplotlib.pyplot as plt\n",
    "import seaborn as sns\n",
    "sns.set()\n",
    "import pandas_profiling"
   ]
  },
  {
   "cell_type": "code",
   "execution_count": 2,
   "metadata": {},
   "outputs": [],
   "source": [
    "# import the data from the csv files\n",
    "\n",
    "results = pd.read_csv('results.csv') # results are through raceId 1052 - Bahrain GP 28-Mar-2021\n",
    "driver = pd.read_csv('drivers.csv')\n",
    "constructor_standings = pd.read_csv('constructor_standings.csv')\n",
    "constructors = pd.read_csv('constructors.csv')\n",
    "constructor_results = pd.read_csv('constructor_results.csv')\n",
    "races = pd.read_csv('races.csv')"
   ]
  },
  {
   "cell_type": "code",
   "execution_count": 3,
   "metadata": {},
   "outputs": [],
   "source": [
    "# merge results and drivers on driverId\n",
    "\n",
    "drivers = results.merge(driver, how='inner', on='driverId')"
   ]
  },
  {
   "cell_type": "code",
   "execution_count": 4,
   "metadata": {},
   "outputs": [],
   "source": [
    "# drop unecessary columns\n",
    "\n",
    "drivers.drop(columns=['grid','laps','statusId','driverRef','number','code','dob','url'], inplace=True)"
   ]
  },
  {
   "cell_type": "code",
   "execution_count": 5,
   "metadata": {},
   "outputs": [],
   "source": [
    "# merge constructor dataframes on constructorId then constructorId, raceId, and points\n",
    "\n",
    "teams = constructor_results.merge(constructor_standings.merge(constructors, how='inner', on='constructorId'), how='inner', on=['constructorId','raceId','points'])"
   ]
  },
  {
   "cell_type": "code",
   "execution_count": 6,
   "metadata": {},
   "outputs": [],
   "source": [
    "# drop unecessary columns\n",
    "\n",
    "teams.drop(columns=['raceId','status','constructorStandingsId','position','positionText','constructorRef','nationality','url'], inplace=True)"
   ]
  },
  {
   "cell_type": "code",
   "execution_count": 7,
   "metadata": {},
   "outputs": [],
   "source": [
    "# rename columns\n",
    "\n",
    "drivers.columns = ['Result ID','Race ID','Driver ID','Constructor ID','Final Position','Driver Points','forename','surname','Nationality']\n",
    "\n",
    "teams.columns = ['Constructor Results ID','Constructor ID','Constructor Points','Constructor Wins', 'Constructor Name']"
   ]
  },
  {
   "cell_type": "code",
   "execution_count": 8,
   "metadata": {},
   "outputs": [],
   "source": [
    "# concatenate driver forename and surname\n",
    "\n",
    "drivers['Name'] = drivers['forename']+' '+drivers['surname']\n",
    "\n",
    "# drop forename and surname\n",
    "\n",
    "drivers.drop(columns=['forename','surname'], inplace=True)"
   ]
  },
  {
   "cell_type": "markdown",
   "metadata": {},
   "source": [
    "## How many drivers have participated in F1?"
   ]
  },
  {
   "cell_type": "code",
   "execution_count": 9,
   "metadata": {},
   "outputs": [
    {
     "name": "stdout",
     "output_type": "stream",
     "text": [
      "There have been 853 drivers participate in Formula 1 since 1950.\n"
     ]
    }
   ],
   "source": [
    "# find the number of unique values for driverId\n",
    "\n",
    "print('There have been '+str(len(drivers['Driver ID'].unique()))+' drivers participate in Formula 1 since 1950.')"
   ]
  },
  {
   "cell_type": "markdown",
   "metadata": {},
   "source": [
    "## What countries have produced the most drivers?"
   ]
  },
  {
   "cell_type": "code",
   "execution_count": 10,
   "metadata": {},
   "outputs": [
    {
     "name": "stdout",
     "output_type": "stream",
     "text": [
      "['British' 'Brazilian' 'Italian' 'German' 'Spanish' 'Swiss' 'French'\n",
      " 'Australian' 'Polish' 'Finnish' 'Japanese' 'Austrian' 'American' 'Dutch'\n",
      " 'Colombian' 'Portuguese' 'Canadian' 'Indian' 'Hungarian' 'Irish' 'Danish'\n",
      " 'Malaysian' 'Argentine' 'Czech' 'Belgian' 'Monegasque' 'Swedish'\n",
      " 'Russian' 'Venezuelan' 'New Zealander' 'Chilean' 'Mexican'\n",
      " 'South African' 'Liechtensteiner' 'Rhodesian' 'American-Italian'\n",
      " 'Uruguayan' 'Argentine-Italian' 'Thai' 'East German' 'Indonesian']\n"
     ]
    },
    {
     "data": {
      "text/plain": [
       "41"
      ]
     },
     "execution_count": 10,
     "metadata": {},
     "output_type": "execute_result"
    }
   ],
   "source": [
    "# list the unique values that appear in nationality\n",
    "\n",
    "print(drivers['Nationality'].unique())\n",
    "len(drivers['Nationality'].unique())"
   ]
  },
  {
   "cell_type": "markdown",
   "metadata": {},
   "source": [
    "I see that while there are 41 unique values two of them - 'American-Italian' and 'Argentine-Italian' - contain multiple countries of nationality.\n",
    "\n",
    "I'll explore these two drivers a little more."
   ]
  },
  {
   "cell_type": "code",
   "execution_count": 11,
   "metadata": {},
   "outputs": [
    {
     "name": "stdout",
     "output_type": "stream",
     "text": [
      "['Alfonso Thiele' 'Alessandro de Tomaso']\n"
     ]
    }
   ],
   "source": [
    "# find out which drivers are listed as 'American-Italian' and 'Argentine-Italian'\n",
    "\n",
    "print(drivers[(drivers['Nationality']=='American-Italian') | (drivers['Nationality']=='Argentine-Italian')]['Name'].unique())"
   ]
  },
  {
   "cell_type": "markdown",
   "metadata": {},
   "source": [
    "A quick google search will show that both drivers participated in auto racing under the flags of each nation. I'll leave their nationalities as is."
   ]
  },
  {
   "cell_type": "code",
   "execution_count": 12,
   "metadata": {},
   "outputs": [],
   "source": [
    "# find the number of drivers under each nationality\n",
    "\n",
    "nationality_count = driver['nationality'].value_counts().to_frame('Counts').reset_index()\n",
    "nationality_count.rename(columns={'index':'Nationality'}, inplace=True)"
   ]
  },
  {
   "cell_type": "code",
   "execution_count": 13,
   "metadata": {},
   "outputs": [
    {
     "data": {
      "image/png": "[encoded data removed]",
      "text/plain": [
       "<Figure size 1152x1440 with 1 Axes>"
      ]
     },
     "metadata": {},
     "output_type": "display_data"
    },
    {
     "data": {
      "text/html": [
       "<div>\n",
       "<style scoped>\n",
       "    .dataframe tbody tr th:only-of-type {\n",
       "        vertical-align: middle;\n",
       "    }\n",
       "\n",
       "    .dataframe tbody tr th {\n",
       "        vertical-align: top;\n",
       "    }\n",
       "\n",
       "    .dataframe thead th {\n",
       "        text-align: right;\n",
       "    }\n",
       "</style>\n",
       "<table border=\"1\" class=\"dataframe\">\n",
       "  <thead>\n",
       "    <tr style=\"text-align: right;\">\n",
       "      <th></th>\n",
       "      <th>Nationality</th>\n",
       "      <th>Counts</th>\n",
       "    </tr>\n",
       "  </thead>\n",
       "  <tbody>\n",
       "    <tr>\n",
       "      <th>0</th>\n",
       "      <td>British</td>\n",
       "      <td>165</td>\n",
       "    </tr>\n",
       "    <tr>\n",
       "      <th>1</th>\n",
       "      <td>American</td>\n",
       "      <td>157</td>\n",
       "    </tr>\n",
       "    <tr>\n",
       "      <th>2</th>\n",
       "      <td>Italian</td>\n",
       "      <td>99</td>\n",
       "    </tr>\n",
       "    <tr>\n",
       "      <th>3</th>\n",
       "      <td>French</td>\n",
       "      <td>73</td>\n",
       "    </tr>\n",
       "    <tr>\n",
       "      <th>4</th>\n",
       "      <td>German</td>\n",
       "      <td>50</td>\n",
       "    </tr>\n",
       "  </tbody>\n",
       "</table>\n",
       "</div>"
      ],
      "text/plain": [
       "  Nationality  Counts\n",
       "0     British     165\n",
       "1    American     157\n",
       "2     Italian      99\n",
       "3      French      73\n",
       "4      German      50"
      ]
     },
     "execution_count": 13,
     "metadata": {},
     "output_type": "execute_result"
    }
   ],
   "source": [
    "plt.figure(figsize=(16,20))\n",
    "sns.barplot(data=nationality_count, y='Nationality', x='Counts', palette='flare')\n",
    "plt.show()\n",
    "\n",
    "nationality_count.head(5)"
   ]
  },
  {
   "cell_type": "markdown",
   "metadata": {},
   "source": [
    "With the popularity of F1 in Europe it seems typical to have 4 of the top 5 driver producing countries located in this region. What is very surprising to find is that the United States has produced the second most drivers with 157, trailing only Britain which has produced 165."
   ]
  },
  {
   "cell_type": "markdown",
   "metadata": {},
   "source": [
    "## Has an American ever won an F1 race?\n",
    "\n",
    "With Americans taking second place in total number of drivers I'm not curious to find out if an American has ever won a race."
   ]
  },
  {
   "cell_type": "code",
   "execution_count": 14,
   "metadata": {},
   "outputs": [],
   "source": [
    "# create a dataframe that includes American drivers that have finished 1st\n",
    "\n",
    "US_winners = drivers[(drivers['Final Position']==1) & (drivers['Nationality']=='American')]"
   ]
  },
  {
   "cell_type": "code",
   "execution_count": 15,
   "metadata": {},
   "outputs": [
    {
     "name": "stdout",
     "output_type": "stream",
     "text": [
      "There have been 15 American drivers that have won an F1 race.\n",
      "\n",
      "Together they have won 33 races\n"
     ]
    }
   ],
   "source": [
    "# print the number of American winners and the number of races they've won\n",
    "\n",
    "print('There have been ' + str(len(US_winners['Name'].unique())) + ' American drivers that have won an F1 race.')\n",
    "print('')\n",
    "print('Together they have won ' + str(US_winners['Final Position'].count()) + ' races')"
   ]
  },
  {
   "cell_type": "markdown",
   "metadata": {},
   "source": [
    "## Who are the most successful constructors (teams)?\n",
    "\n",
    "Find the top 5 constructors with the most season wins and race wins and how many average points do they receive per race win."
   ]
  },
  {
   "cell_type": "code",
   "execution_count": 16,
   "metadata": {},
   "outputs": [],
   "source": [
    "season_wins = teams.groupby(['Constructor Name']).sum()['Constructor Wins'].sort_values(ascending=False).reset_index()\n",
    "season_wins.columns = ['Constructor Name','Season Wins']"
   ]
  },
  {
   "cell_type": "code",
   "execution_count": 17,
   "metadata": {},
   "outputs": [
    {
     "data": {
      "text/html": [
       "<div>\n",
       "<style scoped>\n",
       "    .dataframe tbody tr th:only-of-type {\n",
       "        vertical-align: middle;\n",
       "    }\n",
       "\n",
       "    .dataframe tbody tr th {\n",
       "        vertical-align: top;\n",
       "    }\n",
       "\n",
       "    .dataframe thead th {\n",
       "        text-align: right;\n",
       "    }\n",
       "</style>\n",
       "<table border=\"1\" class=\"dataframe\">\n",
       "  <thead>\n",
       "    <tr style=\"text-align: right;\">\n",
       "      <th></th>\n",
       "      <th>Constructor Name</th>\n",
       "      <th>Season Wins</th>\n",
       "    </tr>\n",
       "  </thead>\n",
       "  <tbody>\n",
       "    <tr>\n",
       "      <th>0</th>\n",
       "      <td>Ferrari</td>\n",
       "      <td>15</td>\n",
       "    </tr>\n",
       "    <tr>\n",
       "      <th>1</th>\n",
       "      <td>McLaren</td>\n",
       "      <td>14</td>\n",
       "    </tr>\n",
       "    <tr>\n",
       "      <th>2</th>\n",
       "      <td>Williams</td>\n",
       "      <td>7</td>\n",
       "    </tr>\n",
       "    <tr>\n",
       "      <th>3</th>\n",
       "      <td>Mercedes</td>\n",
       "      <td>6</td>\n",
       "    </tr>\n",
       "    <tr>\n",
       "      <th>4</th>\n",
       "      <td>Renault</td>\n",
       "      <td>6</td>\n",
       "    </tr>\n",
       "  </tbody>\n",
       "</table>\n",
       "</div>"
      ],
      "text/plain": [
       "  Constructor Name  Season Wins\n",
       "0          Ferrari           15\n",
       "1          McLaren           14\n",
       "2         Williams            7\n",
       "3         Mercedes            6\n",
       "4          Renault            6"
      ]
     },
     "execution_count": 17,
     "metadata": {},
     "output_type": "execute_result"
    }
   ],
   "source": [
    "season_wins.head()"
   ]
  },
  {
   "cell_type": "code",
   "execution_count": 18,
   "metadata": {},
   "outputs": [],
   "source": [
    "# find the total number of points for each constructor\n",
    "\n",
    "total_con_pts = drivers.groupby('Constructor ID').agg({'Driver Points': 'sum'})['Driver Points'].sort_values(ascending=False).reset_index()\n",
    "\n",
    "# find the number of races the constructor has won\n",
    "\n",
    "con_wins = drivers[drivers['Final Position']==1].groupby(['Constructor ID']).sum()['Final Position'].sort_values(ascending=False).reset_index()\n",
    "\n",
    "# find the number of races each constructor participated in\n",
    "\n",
    "con_appearances = drivers['Constructor ID'].value_counts().reset_index()\n",
    "\n",
    "# rename the columns\n",
    "\n",
    "total_con_pts.columns = ['Constructor ID', 'Constructor Points']\n",
    "con_wins.columns = ['Constructor ID','Race Wins']\n",
    "con_appearances.columns = ['Constructor ID','Race Appearances']"
   ]
  },
  {
   "cell_type": "code",
   "execution_count": 19,
   "metadata": {},
   "outputs": [],
   "source": [
    "total_con_pts = total_con_pts.merge(constructors, left_on='Constructor ID', right_on='constructorId')\n",
    "total_con_pts.drop(columns=['constructorId','constructorRef','nationality','url'], inplace=True)\n",
    "total_con_pts.columns = ['Constructor ID', 'Constructor Points','Constructor Name']"
   ]
  },
  {
   "cell_type": "code",
   "execution_count": 20,
   "metadata": {},
   "outputs": [],
   "source": [
    "# merge all constructor data\n",
    "\n",
    "con_alldata = total_con_pts.merge(con_wins.merge(con_appearances, how='inner', on='Constructor ID'), how='inner', on='Constructor ID')"
   ]
  },
  {
   "cell_type": "code",
   "execution_count": 21,
   "metadata": {},
   "outputs": [],
   "source": [
    "# add a points per win column\n",
    "\n",
    "con_alldata['Points per Win'] = round(con_alldata['Constructor Points']/con_alldata['Race Wins'],1)"
   ]
  },
  {
   "cell_type": "code",
   "execution_count": 22,
   "metadata": {},
   "outputs": [],
   "source": [
    "# add a winning percentage column\n",
    "\n",
    "con_alldata['Winning %'] = round(con_alldata['Race Wins']/con_alldata['Race Appearances']*100,2)"
   ]
  },
  {
   "cell_type": "code",
   "execution_count": 23,
   "metadata": {},
   "outputs": [
    {
     "data": {
      "image/png": "[encoded data removed]",
      "text/plain": [
       "<Figure size 864x1440 with 3 Axes>"
      ]
     },
     "metadata": {},
     "output_type": "display_data"
    }
   ],
   "source": [
    "fig, axs = plt.subplots(nrows=3, figsize=(12,20))\n",
    "\n",
    "sns.barplot(data=con_alldata.head(10), y='Constructor Name', x='Constructor Points', palette=\"rocket\", ax=axs[0])\n",
    "#plt.title('Most Constructor Points (all time)')\n",
    "plt.xlabel('Points (all time)')\n",
    "plt.ylabel('Constructor Name')\n",
    "\n",
    "df1 = con_alldata.groupby(['Constructor ID','Constructor Name']).sum()['Race Wins'].sort_values(ascending=False).to_frame('Race Wins').reset_index()\n",
    "sns.barplot(data=df1.head(10), y='Constructor Name', x='Race Wins', palette=\"rocket\", ax=axs[1])\n",
    "#plt.title('Most Constructor Race Wins')\n",
    "plt.xlabel('Race Wins')\n",
    "plt.ylabel('Constructor Name')\n",
    "\n",
    "df2 = con_alldata.groupby(['Constructor ID','Constructor Name']).sum()['Winning %'].sort_values(ascending=False).reset_index()\n",
    "sns.barplot(data=df2.head(10), y='Constructor Name', x='Winning %', palette=\"rocket\", ax=axs[2])\n",
    "#plt.title('Constructor Winning %')\n",
    "plt.xlabel('Winning %')\n",
    "plt.ylabel('Constructor Name')\n",
    "\n",
    "plt.show()"
   ]
  },
  {
   "cell_type": "code",
   "execution_count": 24,
   "metadata": {},
   "outputs": [
    {
     "data": {
      "text/html": [
       "<div>\n",
       "<style scoped>\n",
       "    .dataframe tbody tr th:only-of-type {\n",
       "        vertical-align: middle;\n",
       "    }\n",
       "\n",
       "    .dataframe tbody tr th {\n",
       "        vertical-align: top;\n",
       "    }\n",
       "\n",
       "    .dataframe thead th {\n",
       "        text-align: right;\n",
       "    }\n",
       "</style>\n",
       "<table border=\"1\" class=\"dataframe\">\n",
       "  <thead>\n",
       "    <tr style=\"text-align: right;\">\n",
       "      <th></th>\n",
       "      <th>Constructor ID</th>\n",
       "      <th>Constructor Points</th>\n",
       "      <th>Constructor Name</th>\n",
       "      <th>Race Wins</th>\n",
       "      <th>Race Appearances</th>\n",
       "      <th>Points per Win</th>\n",
       "      <th>Winning %</th>\n",
       "    </tr>\n",
       "  </thead>\n",
       "  <tbody>\n",
       "    <tr>\n",
       "      <th>1</th>\n",
       "      <td>131</td>\n",
       "      <td>5865.14</td>\n",
       "      <td>Mercedes</td>\n",
       "      <td>116</td>\n",
       "      <td>474</td>\n",
       "      <td>50.6</td>\n",
       "      <td>24.47</td>\n",
       "    </tr>\n",
       "    <tr>\n",
       "      <th>23</th>\n",
       "      <td>23</td>\n",
       "      <td>172.00</td>\n",
       "      <td>Brawn</td>\n",
       "      <td>8</td>\n",
       "      <td>34</td>\n",
       "      <td>21.5</td>\n",
       "      <td>23.53</td>\n",
       "    </tr>\n",
       "    <tr>\n",
       "      <th>28</th>\n",
       "      <td>196</td>\n",
       "      <td>130.00</td>\n",
       "      <td>Matra-Ford</td>\n",
       "      <td>9</td>\n",
       "      <td>40</td>\n",
       "      <td>14.4</td>\n",
       "      <td>22.50</td>\n",
       "    </tr>\n",
       "    <tr>\n",
       "      <th>30</th>\n",
       "      <td>118</td>\n",
       "      <td>108.00</td>\n",
       "      <td>Vanwall</td>\n",
       "      <td>10</td>\n",
       "      <td>71</td>\n",
       "      <td>10.8</td>\n",
       "      <td>14.08</td>\n",
       "    </tr>\n",
       "    <tr>\n",
       "      <th>41</th>\n",
       "      <td>107</td>\n",
       "      <td>36.00</td>\n",
       "      <td>Watson</td>\n",
       "      <td>3</td>\n",
       "      <td>22</td>\n",
       "      <td>12.0</td>\n",
       "      <td>13.64</td>\n",
       "    </tr>\n",
       "    <tr>\n",
       "      <th>40</th>\n",
       "      <td>108</td>\n",
       "      <td>44.00</td>\n",
       "      <td>Epperly</td>\n",
       "      <td>2</td>\n",
       "      <td>17</td>\n",
       "      <td>22.0</td>\n",
       "      <td>11.76</td>\n",
       "    </tr>\n",
       "    <tr>\n",
       "      <th>0</th>\n",
       "      <td>6</td>\n",
       "      <td>9304.77</td>\n",
       "      <td>Ferrari</td>\n",
       "      <td>239</td>\n",
       "      <td>2261</td>\n",
       "      <td>38.9</td>\n",
       "      <td>10.57</td>\n",
       "    </tr>\n",
       "    <tr>\n",
       "      <th>3</th>\n",
       "      <td>9</td>\n",
       "      <td>5071.50</td>\n",
       "      <td>Red Bull</td>\n",
       "      <td>64</td>\n",
       "      <td>610</td>\n",
       "      <td>79.2</td>\n",
       "      <td>10.49</td>\n",
       "    </tr>\n",
       "    <tr>\n",
       "      <th>22</th>\n",
       "      <td>191</td>\n",
       "      <td>175.00</td>\n",
       "      <td>Brabham-Repco</td>\n",
       "      <td>8</td>\n",
       "      <td>77</td>\n",
       "      <td>21.9</td>\n",
       "      <td>10.39</td>\n",
       "    </tr>\n",
       "    <tr>\n",
       "      <th>2</th>\n",
       "      <td>1</td>\n",
       "      <td>5741.50</td>\n",
       "      <td>McLaren</td>\n",
       "      <td>178</td>\n",
       "      <td>1745</td>\n",
       "      <td>32.3</td>\n",
       "      <td>10.20</td>\n",
       "    </tr>\n",
       "  </tbody>\n",
       "</table>\n",
       "</div>"
      ],
      "text/plain": [
       "    Constructor ID  Constructor Points Constructor Name  Race Wins  \\\n",
       "1              131             5865.14         Mercedes        116   \n",
       "23              23              172.00            Brawn          8   \n",
       "28             196              130.00       Matra-Ford          9   \n",
       "30             118              108.00          Vanwall         10   \n",
       "41             107               36.00           Watson          3   \n",
       "40             108               44.00          Epperly          2   \n",
       "0                6             9304.77          Ferrari        239   \n",
       "3                9             5071.50         Red Bull         64   \n",
       "22             191              175.00    Brabham-Repco          8   \n",
       "2                1             5741.50          McLaren        178   \n",
       "\n",
       "    Race Appearances  Points per Win  Winning %  \n",
       "1                474            50.6      24.47  \n",
       "23                34            21.5      23.53  \n",
       "28                40            14.4      22.50  \n",
       "30                71            10.8      14.08  \n",
       "41                22            12.0      13.64  \n",
       "40                17            22.0      11.76  \n",
       "0               2261            38.9      10.57  \n",
       "3                610            79.2      10.49  \n",
       "22                77            21.9      10.39  \n",
       "2               1745            32.3      10.20  "
      ]
     },
     "execution_count": 24,
     "metadata": {},
     "output_type": "execute_result"
    }
   ],
   "source": [
    "con_alldata.sort_values(by='Winning %', ascending=False).head(10)"
   ]
  },
  {
   "cell_type": "markdown",
   "metadata": {},
   "source": [
    "## Which drivers have the most race wins all time?"
   ]
  },
  {
   "cell_type": "code",
   "execution_count": 25,
   "metadata": {},
   "outputs": [],
   "source": [
    "winners = drivers[drivers['Final Position']==1].groupby(['Name']).sum()['Final Position'].sort_values(ascending=False).reset_index()"
   ]
  },
  {
   "cell_type": "code",
   "execution_count": 26,
   "metadata": {},
   "outputs": [
    {
     "data": {
      "text/html": [
       "<div>\n",
       "<style scoped>\n",
       "    .dataframe tbody tr th:only-of-type {\n",
       "        vertical-align: middle;\n",
       "    }\n",
       "\n",
       "    .dataframe tbody tr th {\n",
       "        vertical-align: top;\n",
       "    }\n",
       "\n",
       "    .dataframe thead th {\n",
       "        text-align: right;\n",
       "    }\n",
       "</style>\n",
       "<table border=\"1\" class=\"dataframe\">\n",
       "  <thead>\n",
       "    <tr style=\"text-align: right;\">\n",
       "      <th></th>\n",
       "      <th>Name</th>\n",
       "      <th>Final Position</th>\n",
       "    </tr>\n",
       "  </thead>\n",
       "  <tbody>\n",
       "    <tr>\n",
       "      <th>0</th>\n",
       "      <td>Lewis Hamilton</td>\n",
       "      <td>96</td>\n",
       "    </tr>\n",
       "    <tr>\n",
       "      <th>1</th>\n",
       "      <td>Michael Schumacher</td>\n",
       "      <td>91</td>\n",
       "    </tr>\n",
       "    <tr>\n",
       "      <th>2</th>\n",
       "      <td>Sebastian Vettel</td>\n",
       "      <td>53</td>\n",
       "    </tr>\n",
       "    <tr>\n",
       "      <th>3</th>\n",
       "      <td>Alain Prost</td>\n",
       "      <td>51</td>\n",
       "    </tr>\n",
       "    <tr>\n",
       "      <th>4</th>\n",
       "      <td>Ayrton Senna</td>\n",
       "      <td>41</td>\n",
       "    </tr>\n",
       "  </tbody>\n",
       "</table>\n",
       "</div>"
      ],
      "text/plain": [
       "                 Name  Final Position\n",
       "0      Lewis Hamilton              96\n",
       "1  Michael Schumacher              91\n",
       "2    Sebastian Vettel              53\n",
       "3         Alain Prost              51\n",
       "4        Ayrton Senna              41"
      ]
     },
     "execution_count": 26,
     "metadata": {},
     "output_type": "execute_result"
    }
   ],
   "source": [
    "winners.head()"
   ]
  },
  {
   "cell_type": "code",
   "execution_count": 27,
   "metadata": {},
   "outputs": [],
   "source": [
    "driver_appearances = drivers['Name'].value_counts().to_frame().reset_index()"
   ]
  },
  {
   "cell_type": "code",
   "execution_count": 28,
   "metadata": {},
   "outputs": [],
   "source": [
    "winners.columns=['Name', 'Number of Wins']\n",
    "driver_appearances.columns=['Name','Races']"
   ]
  },
  {
   "cell_type": "code",
   "execution_count": 29,
   "metadata": {},
   "outputs": [],
   "source": [
    "winners2 = winners.merge(driver_appearances, how='inner', on='Name')\n",
    "winners2['Winning %'] = round(winners2['Number of Wins']/winners2['Races']*100,2)"
   ]
  },
  {
   "cell_type": "code",
   "execution_count": 30,
   "metadata": {},
   "outputs": [
    {
     "data": {
      "text/html": [
       "<div>\n",
       "<style scoped>\n",
       "    .dataframe tbody tr th:only-of-type {\n",
       "        vertical-align: middle;\n",
       "    }\n",
       "\n",
       "    .dataframe tbody tr th {\n",
       "        vertical-align: top;\n",
       "    }\n",
       "\n",
       "    .dataframe thead th {\n",
       "        text-align: right;\n",
       "    }\n",
       "</style>\n",
       "<table border=\"1\" class=\"dataframe\">\n",
       "  <thead>\n",
       "    <tr style=\"text-align: right;\">\n",
       "      <th></th>\n",
       "      <th>Name</th>\n",
       "      <th>Number of Wins</th>\n",
       "      <th>Races</th>\n",
       "      <th>Winning %</th>\n",
       "    </tr>\n",
       "  </thead>\n",
       "  <tbody>\n",
       "    <tr>\n",
       "      <th>0</th>\n",
       "      <td>Lewis Hamilton</td>\n",
       "      <td>96</td>\n",
       "      <td>267</td>\n",
       "      <td>35.96</td>\n",
       "    </tr>\n",
       "    <tr>\n",
       "      <th>1</th>\n",
       "      <td>Michael Schumacher</td>\n",
       "      <td>91</td>\n",
       "      <td>308</td>\n",
       "      <td>29.55</td>\n",
       "    </tr>\n",
       "    <tr>\n",
       "      <th>2</th>\n",
       "      <td>Sebastian Vettel</td>\n",
       "      <td>53</td>\n",
       "      <td>259</td>\n",
       "      <td>20.46</td>\n",
       "    </tr>\n",
       "    <tr>\n",
       "      <th>3</th>\n",
       "      <td>Alain Prost</td>\n",
       "      <td>51</td>\n",
       "      <td>202</td>\n",
       "      <td>25.25</td>\n",
       "    </tr>\n",
       "    <tr>\n",
       "      <th>4</th>\n",
       "      <td>Ayrton Senna</td>\n",
       "      <td>41</td>\n",
       "      <td>162</td>\n",
       "      <td>25.31</td>\n",
       "    </tr>\n",
       "  </tbody>\n",
       "</table>\n",
       "</div>"
      ],
      "text/plain": [
       "                 Name  Number of Wins  Races  Winning %\n",
       "0      Lewis Hamilton              96    267      35.96\n",
       "1  Michael Schumacher              91    308      29.55\n",
       "2    Sebastian Vettel              53    259      20.46\n",
       "3         Alain Prost              51    202      25.25\n",
       "4        Ayrton Senna              41    162      25.31"
      ]
     },
     "execution_count": 30,
     "metadata": {},
     "output_type": "execute_result"
    }
   ],
   "source": [
    "winners2.head()"
   ]
  },
  {
   "cell_type": "markdown",
   "metadata": {},
   "source": [
    "## What effect does being on pole (starting the race in first position) have on a driver's final position at the race's end?"
   ]
  },
  {
   "cell_type": "code",
   "execution_count": 31,
   "metadata": {},
   "outputs": [
    {
     "data": {
      "text/html": [
       "<div>\n",
       "<style scoped>\n",
       "    .dataframe tbody tr th:only-of-type {\n",
       "        vertical-align: middle;\n",
       "    }\n",
       "\n",
       "    .dataframe tbody tr th {\n",
       "        vertical-align: top;\n",
       "    }\n",
       "\n",
       "    .dataframe thead th {\n",
       "        text-align: right;\n",
       "    }\n",
       "</style>\n",
       "<table border=\"1\" class=\"dataframe\">\n",
       "  <thead>\n",
       "    <tr style=\"text-align: right;\">\n",
       "      <th></th>\n",
       "      <th>resultId</th>\n",
       "      <th>raceId</th>\n",
       "      <th>driverId</th>\n",
       "      <th>constructorId</th>\n",
       "      <th>grid</th>\n",
       "      <th>positionOrder</th>\n",
       "      <th>points</th>\n",
       "      <th>laps</th>\n",
       "      <th>statusId</th>\n",
       "    </tr>\n",
       "  </thead>\n",
       "  <tbody>\n",
       "    <tr>\n",
       "      <th>0</th>\n",
       "      <td>7554</td>\n",
       "      <td>1</td>\n",
       "      <td>18</td>\n",
       "      <td>23</td>\n",
       "      <td>1</td>\n",
       "      <td>1</td>\n",
       "      <td>10.0</td>\n",
       "      <td>58</td>\n",
       "      <td>1</td>\n",
       "    </tr>\n",
       "    <tr>\n",
       "      <th>1</th>\n",
       "      <td>7555</td>\n",
       "      <td>1</td>\n",
       "      <td>22</td>\n",
       "      <td>23</td>\n",
       "      <td>2</td>\n",
       "      <td>2</td>\n",
       "      <td>8.0</td>\n",
       "      <td>58</td>\n",
       "      <td>1</td>\n",
       "    </tr>\n",
       "    <tr>\n",
       "      <th>2</th>\n",
       "      <td>7556</td>\n",
       "      <td>1</td>\n",
       "      <td>15</td>\n",
       "      <td>7</td>\n",
       "      <td>20</td>\n",
       "      <td>3</td>\n",
       "      <td>6.0</td>\n",
       "      <td>58</td>\n",
       "      <td>1</td>\n",
       "    </tr>\n",
       "    <tr>\n",
       "      <th>3</th>\n",
       "      <td>7557</td>\n",
       "      <td>1</td>\n",
       "      <td>10</td>\n",
       "      <td>7</td>\n",
       "      <td>19</td>\n",
       "      <td>4</td>\n",
       "      <td>5.0</td>\n",
       "      <td>58</td>\n",
       "      <td>1</td>\n",
       "    </tr>\n",
       "    <tr>\n",
       "      <th>4</th>\n",
       "      <td>7558</td>\n",
       "      <td>1</td>\n",
       "      <td>4</td>\n",
       "      <td>4</td>\n",
       "      <td>10</td>\n",
       "      <td>5</td>\n",
       "      <td>4.0</td>\n",
       "      <td>58</td>\n",
       "      <td>1</td>\n",
       "    </tr>\n",
       "  </tbody>\n",
       "</table>\n",
       "</div>"
      ],
      "text/plain": [
       "   resultId  raceId  driverId  constructorId  grid  positionOrder  points  \\\n",
       "0      7554       1        18             23     1              1    10.0   \n",
       "1      7555       1        22             23     2              2     8.0   \n",
       "2      7556       1        15              7    20              3     6.0   \n",
       "3      7557       1        10              7    19              4     5.0   \n",
       "4      7558       1         4              4    10              5     4.0   \n",
       "\n",
       "   laps  statusId  \n",
       "0    58         1  \n",
       "1    58         1  \n",
       "2    58         1  \n",
       "3    58         1  \n",
       "4    58         1  "
      ]
     },
     "execution_count": 31,
     "metadata": {},
     "output_type": "execute_result"
    }
   ],
   "source": [
    "results.head()"
   ]
  },
  {
   "cell_type": "code",
   "execution_count": 32,
   "metadata": {},
   "outputs": [
    {
     "data": {
      "text/html": [
       "<div>\n",
       "<style scoped>\n",
       "    .dataframe tbody tr th:only-of-type {\n",
       "        vertical-align: middle;\n",
       "    }\n",
       "\n",
       "    .dataframe tbody tr th {\n",
       "        vertical-align: top;\n",
       "    }\n",
       "\n",
       "    .dataframe thead th {\n",
       "        text-align: right;\n",
       "    }\n",
       "</style>\n",
       "<table border=\"1\" class=\"dataframe\">\n",
       "  <thead>\n",
       "    <tr style=\"text-align: right;\">\n",
       "      <th></th>\n",
       "      <th>positionOrder</th>\n",
       "    </tr>\n",
       "  </thead>\n",
       "  <tbody>\n",
       "    <tr>\n",
       "      <th>1</th>\n",
       "      <td>41.55</td>\n",
       "    </tr>\n",
       "    <tr>\n",
       "      <th>2</th>\n",
       "      <td>14.23</td>\n",
       "    </tr>\n",
       "    <tr>\n",
       "      <th>3</th>\n",
       "      <td>6.49</td>\n",
       "    </tr>\n",
       "  </tbody>\n",
       "</table>\n",
       "</div>"
      ],
      "text/plain": [
       "   positionOrder\n",
       "1          41.55\n",
       "2          14.23\n",
       "3           6.49"
      ]
     },
     "execution_count": 32,
     "metadata": {},
     "output_type": "execute_result"
    }
   ],
   "source": [
    "# when grid equals 1 what is the percentage of each final position\n",
    "\n",
    "(round(results[results['grid']==1]['positionOrder'].value_counts(normalize=True)*100,2)).to_frame().head(3)"
   ]
  },
  {
   "cell_type": "markdown",
   "metadata": {},
   "source": [
    "History shows that when a driver starts in pole position 41.55% of the time he has gone on to win the race. A total of 62.27% of the time that driver has gone on to finish at least in the top 3."
   ]
  },
  {
   "cell_type": "markdown",
   "metadata": {},
   "source": [
    "## How likely is a driver to win at Monaco if he starts on the pole?\n",
    "\n",
    "The Monaco Grand Prix is one of the oldest and most prestigious races in Formula 1. The Circuit de Monaco weaves its way through the streets of Monte Carlo and La Condamine through narrow streets and tight corners. Because of this race enthusiasts claim there is very little passing on the circuit and Monaco is won on Saturdays by qualifying in pole position.\n",
    "\n",
    "Is this true? Is Monaco \"won\" on Saturdays?"
   ]
  },
  {
   "cell_type": "code",
   "execution_count": 33,
   "metadata": {},
   "outputs": [],
   "source": [
    "poles = results[results['grid']==1]"
   ]
  },
  {
   "cell_type": "code",
   "execution_count": 34,
   "metadata": {},
   "outputs": [],
   "source": [
    "circuits = poles.merge(races, left_on=['raceId'], right_on = ['raceId']).drop(columns=['resultId','driverId','constructorId','points','laps','statusId','year','round','circuitId','date','time','url'])"
   ]
  },
  {
   "cell_type": "code",
   "execution_count": 35,
   "metadata": {},
   "outputs": [],
   "source": [
    "monaco = circuits[circuits['name']=='Monaco Grand Prix']"
   ]
  },
  {
   "cell_type": "code",
   "execution_count": 36,
   "metadata": {},
   "outputs": [
    {
     "name": "stdout",
     "output_type": "stream",
     "text": [
      "Of the 67 runnings of the Monaco Grand Prix 44.78% of them have been won by the pole sitter.\n"
     ]
    }
   ],
   "source": [
    "monaco_races = len(monaco)\n",
    "monaco_pole_race_winners = len(monaco[monaco['positionOrder']==1])\n",
    "\n",
    "print('Of the 67 runnings of the Monaco Grand Prix '\n",
    "      + str(round(monaco_pole_race_winners/monaco_races*100,2)) +'% '\n",
    "      + 'of them have been won by the pole sitter.')"
   ]
  },
  {
   "cell_type": "code",
   "execution_count": 73,
   "metadata": {},
   "outputs": [],
   "source": [
    "pole_win_totals = circuits[(circuits['grid']==1)&(circuits['positionOrder']==1)]['name'].value_counts().to_frame().reset_index()"
   ]
  },
  {
   "cell_type": "code",
   "execution_count": 70,
   "metadata": {},
   "outputs": [],
   "source": [
    "race_totals = races['name'].value_counts().to_frame().reset_index()"
   ]
  },
  {
   "cell_type": "code",
   "execution_count": 76,
   "metadata": {},
   "outputs": [],
   "source": [
    "race_end = pole_win_totals.merge(race_totals, on='index')\n",
    "race_end.columns = ['Circuit Name','Pole / Winner','Number of Races']"
   ]
  },
  {
   "cell_type": "code",
   "execution_count": 78,
   "metadata": {},
   "outputs": [],
   "source": [
    "race_end['% of Races Won by Pole Sitter'] = round(race_end['Pole / Winner']/race_end['Number of Races']*100,2)"
   ]
  },
  {
   "cell_type": "code",
   "execution_count": 92,
   "metadata": {},
   "outputs": [
    {
     "data": {
      "text/html": [
       "<div>\n",
       "<style scoped>\n",
       "    .dataframe tbody tr th:only-of-type {\n",
       "        vertical-align: middle;\n",
       "    }\n",
       "\n",
       "    .dataframe tbody tr th {\n",
       "        vertical-align: top;\n",
       "    }\n",
       "\n",
       "    .dataframe thead th {\n",
       "        text-align: right;\n",
       "    }\n",
       "</style>\n",
       "<table border=\"1\" class=\"dataframe\">\n",
       "  <thead>\n",
       "    <tr style=\"text-align: right;\">\n",
       "      <th></th>\n",
       "      <th>Circuit Name</th>\n",
       "      <th>Pole / Winner</th>\n",
       "      <th>Number of Races</th>\n",
       "      <th>% of Races Won by Pole Sitter</th>\n",
       "    </tr>\n",
       "  </thead>\n",
       "  <tbody>\n",
       "    <tr>\n",
       "      <th>0</th>\n",
       "      <td>German Grand Prix</td>\n",
       "      <td>32</td>\n",
       "      <td>64</td>\n",
       "      <td>50.00</td>\n",
       "    </tr>\n",
       "    <tr>\n",
       "      <th>1</th>\n",
       "      <td>Monaco Grand Prix</td>\n",
       "      <td>30</td>\n",
       "      <td>67</td>\n",
       "      <td>44.78</td>\n",
       "    </tr>\n",
       "    <tr>\n",
       "      <th>2</th>\n",
       "      <td>Spanish Grand Prix</td>\n",
       "      <td>28</td>\n",
       "      <td>51</td>\n",
       "      <td>54.90</td>\n",
       "    </tr>\n",
       "    <tr>\n",
       "      <th>3</th>\n",
       "      <td>British Grand Prix</td>\n",
       "      <td>27</td>\n",
       "      <td>72</td>\n",
       "      <td>37.50</td>\n",
       "    </tr>\n",
       "    <tr>\n",
       "      <th>4</th>\n",
       "      <td>French Grand Prix</td>\n",
       "      <td>27</td>\n",
       "      <td>61</td>\n",
       "      <td>44.26</td>\n",
       "    </tr>\n",
       "  </tbody>\n",
       "</table>\n",
       "</div>"
      ],
      "text/plain": [
       "         Circuit Name  Pole / Winner  Number of Races  \\\n",
       "0   German Grand Prix             32               64   \n",
       "1   Monaco Grand Prix             30               67   \n",
       "2  Spanish Grand Prix             28               51   \n",
       "3  British Grand Prix             27               72   \n",
       "4   French Grand Prix             27               61   \n",
       "\n",
       "   % of Races Won by Pole Sitter  \n",
       "0                          50.00  \n",
       "1                          44.78  \n",
       "2                          54.90  \n",
       "3                          37.50  \n",
       "4                          44.26  "
      ]
     },
     "execution_count": 92,
     "metadata": {},
     "output_type": "execute_result"
    }
   ],
   "source": [
    "race_end.head()"
   ]
  },
  {
   "cell_type": "code",
   "execution_count": 91,
   "metadata": {},
   "outputs": [
    {
     "name": "stdout",
     "output_type": "stream",
     "text": [
      "44.56\n",
      "41.75\n"
     ]
    }
   ],
   "source": [
    "# find the mean percentage for races won by the pole sitter according to each race\n",
    "\n",
    "print(round(race_end['% of Races Won by Pole Sitter'].mean(),2))\n",
    "\n",
    "# find the overall percentage of races won by the pole sitter\n",
    "\n",
    "print(round(race_end['Pole / Winner'].sum()/race_end['Number of Races'].sum()*100,2))"
   ]
  },
  {
   "cell_type": "markdown",
   "metadata": {},
   "source": [
    "The mean-average for each respective race being won by the pole sitter is 44.56%\n",
    "\n",
    "While the overall percentage of races won by the the pole sitter is 41.75%\n",
    "\n",
    "This shows that while the Monaco Grand Prix is won by the pole sitter more than the average race it is only higher than the average by 0.22% and is only 3.03% over the overall average."
   ]
  }
 ],
 "metadata": {
  "kernelspec": {
   "display_name": "Python 3",
   "language": "python",
   "name": "python3"
  },
  "language_info": {
   "codemirror_mode": {
    "name": "ipython",
    "version": 3
   },
   "file_extension": ".py",
   "mimetype": "text/x-python",
   "name": "python",
   "nbconvert_exporter": "python",
   "pygments_lexer": "ipython3",
   "version": "3.7.6"
  }
 },
 "nbformat": 4,
 "nbformat_minor": 4
}
